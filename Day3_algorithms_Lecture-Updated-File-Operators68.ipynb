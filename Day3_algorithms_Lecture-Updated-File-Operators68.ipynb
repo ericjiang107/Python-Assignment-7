{
 "cells": [
  {
   "cell_type": "markdown",
   "metadata": {},
   "source": [
    "# Intro to Algorithms, Binary Search"
   ]
  },
  {
   "cell_type": "markdown",
   "metadata": {},
   "source": [
    "## Tasks Today:\n",
    " \n",
    "1) <b>In-Place Algorithms</b> <br>\n",
    " &nbsp;&nbsp;&nbsp;&nbsp; a) Syntax <br>\n",
    " &nbsp;&nbsp;&nbsp;&nbsp; a) Out of Place Algorithm <br>\n",
    " &nbsp;&nbsp;&nbsp;&nbsp; b) In-Class Exercise #1 <br>\n",
    "2) <b>Two Pointers</b> <br>\n",
    "4) <b>Sorting Algorithms</b> <br>\n",
    " &nbsp;&nbsp;&nbsp;&nbsp; a) Videos on Algorithms (Watch later) <br>\n",
    " &nbsp;&nbsp;&nbsp;&nbsp; b) Bubble Sort <br>\n",
    " &nbsp;&nbsp;&nbsp;&nbsp; c) Insertion Sort <br>\n",
    " &nbsp;&nbsp;&nbsp;&nbsp; d) Merge Sort <br>\n",
    "5) <b>Binary Search Algorithm</b> <br>\n",
    "6) <b>Exercises</b> <br>\n",
    " &nbsp;&nbsp;&nbsp;&nbsp; a) Exercise #1 - Reverse a List in Place Using an In-Place Algorithm <br>\n",
    " &nbsp;&nbsp;&nbsp;&nbsp; b) Exercise #2 - Find Distinct Words <br>\n",
    " &nbsp;&nbsp;&nbsp;&nbsp; c) Exercise #3 - Write a program to implement a Linear Search Algorithm. <br>"
   ]
  },
  {
   "cell_type": "markdown",
   "metadata": {},
   "source": [
    "## In-Place Algorithms"
   ]
  },
  {
   "cell_type": "markdown",
   "metadata": {},
   "source": [
    "#### Syntax"
   ]
  },
  {
   "cell_type": "code",
   "execution_count": 4,
   "metadata": {},
   "outputs": [
    {
     "name": "stdout",
     "output_type": "stream",
     "text": [
      "Before Swap: [1, 2, 3]\n",
      "After Swap: [3, 2, 1]\n"
     ]
    }
   ],
   "source": [
    "a_list = [3, 2, 1]\n",
    "\n",
    "# in place means not making a copy and storing it. It is using the place from the memory file and moving it\n",
    "\n",
    "# Syntax behind a swap algorithm is: var[i], var[i+1] = var[i+1], var[i]\n",
    "\n",
    "def swap(list_1, x, y, z): # x, y, z are 3 different incdices\n",
    "    list_1[x], list_1[y], list_1[z] = list_1[z], list_1[y], list_1[x]\n",
    "    return list_1\n",
    "\n",
    "swap(a_list, 0, 1, 2) # We are swapping a_list using the function swap at index 0, 1, and 2 \n",
    "\n",
    "new_list = [1,2,3]\n",
    "print(f'Before Swap: {new_list}')\n",
    "new_list[0], new_list[1], new_list[2] = new_list[2], new_list[1], new_list[0]\n",
    "print(f'After Swap: {new_list}')\n",
    "\n"
   ]
  },
  {
   "cell_type": "markdown",
   "metadata": {},
   "source": [
    "#### Out of Place Algorithm"
   ]
  },
  {
   "cell_type": "code",
   "execution_count": 15,
   "metadata": {},
   "outputs": [
    {
     "name": "stdout",
     "output_type": "stream",
     "text": [
      "[8, 7, 6, 5, 4, 3, 2, 1]\n",
      "[1, 2, 3, 4, 5, 6, 7, 8]\n",
      "[8, 7, 6, 5, 4, 3, 2, 1]\n"
     ]
    }
   ],
   "source": [
    "# Not called swapping in place in memory --> takes an entire new slot in memory to perform this action \n",
    "\n",
    "\n",
    "my_list = [1,2,3,4,5,6,7,8]\n",
    "\n",
    "my_list_copy = my_list[::-1] # start is empty, stop is empty, stepping is -1  \n",
    "# use slice to make a copy of a specific section of the list\n",
    "print(my_list_copy)\n",
    "print(my_list)\n",
    "\n",
    "# the my_list is not changed so it means it is not in the same place where the change is happening\n",
    "\n",
    "my_new_copy = [\"\", \"\", \"\", \"\", \"\", \"\", \"\", \"\"] # empty strings 0-7 indices \n",
    "for i in range(len(my_list)): \n",
    "    my_new_copy[i] = my_list[len(my_list)-1-i]\n",
    "# that creates a list based on the number of empty places there are\n",
    "\n",
    "print(my_new_copy)\n",
    "\n",
    "# If you remove -i from the for statement above, instead of the reversed my_list, we get [8,8,8,8,8,8,8]"
   ]
  },
  {
   "cell_type": "markdown",
   "metadata": {},
   "source": [
    "#### In-Class Exercise #1 <br>\n",
    "<p>Write a function that takes in four arguments (list, index1, index2, index3), and swaps those three positions in the list passed in.</p>"
   ]
  },
  {
   "cell_type": "code",
   "execution_count": 38,
   "metadata": {},
   "outputs": [
    {
     "name": "stdout",
     "output_type": "stream",
     "text": [
      "[6, 4, 3, 8, 4, 2, 10]\n"
     ]
    }
   ],
   "source": [
    "l_1 = [10, 4, 3, 8, 4, 2, 6]\n",
    "\n",
    "def in_place(list_in_place, x,y,z):\n",
    "    list_in_place[x], list_in_place[y], list_in_place[z] = list_in_place[z], list_in_place[y], list_in_place[x] \n",
    "    # z,y,x at the end are interchangeable, you can move the indices\n",
    "    return list_in_place\n",
    "\n",
    "print(in_place(l_1, 0, 1, 6))"
   ]
  },
  {
   "cell_type": "markdown",
   "metadata": {},
   "source": [
    "## Two Pointers"
   ]
  },
  {
   "cell_type": "markdown",
   "metadata": {},
   "source": [
    "#### Syntax"
   ]
  },
  {
   "cell_type": "code",
   "execution_count": 37,
   "metadata": {},
   "outputs": [
    {
     "data": {
      "text/plain": [
       "[22, 11, 4, 8, 9, 12, 3, 2, 1]"
      ]
     },
     "execution_count": 37,
     "metadata": {},
     "output_type": "execute_result"
    }
   ],
   "source": [
    "# alist[i], alist[j], = alist[j], alist[i]\n",
    "# typically 2 pointers are inside of a while loop\n",
    "my_list2 = [1,2,3,12,9,8,4,11,22]\n",
    "\n",
    "def reverseList(alist):\n",
    "    # Creating 2 pointers\n",
    "    left = 0\n",
    "    right = len(alist) - 1\n",
    "    while left < right:\n",
    "        alist[left], alist[right] = alist[right], alist[left]\n",
    "        left += 1\n",
    "        right -= 1\n",
    "        \n",
    "    return alist\n",
    "\n",
    "reverseList(my_list2) # --> entire my_list2 is now reversed"
   ]
  },
  {
   "cell_type": "markdown",
   "metadata": {},
   "source": [
    "#### Video of Algorithms <br>\n",
    "<p>Watch the video about algorithms.</p>\n",
    "\n",
    "https://www.youtube.com/watch?v=Q9HjeFD62Uk\n",
    "\n",
    "https://www.youtube.com/watch?v=kPRA0W1kECg\n",
    "\n",
    "https://www.youtube.com/watch?v=ZZuD6iUe3Pc"
   ]
  },
  {
   "cell_type": "markdown",
   "metadata": {},
   "source": [
    "# Sorting Algorithms"
   ]
  },
  {
   "cell_type": "markdown",
   "metadata": {},
   "source": [
    "#### Bubble Sort\n",
    "\n",
    "Worst Case: O(n^2) Time - O(1) Space"
   ]
  },
  {
   "cell_type": "code",
   "execution_count": 43,
   "metadata": {},
   "outputs": [
    {
     "name": "stdout",
     "output_type": "stream",
     "text": [
      "[0, 4, 6, 13, 16, 18, 28]\n"
     ]
    }
   ],
   "source": [
    "# Swap Helper\n",
    "def swap(i, j, array):\n",
    "    array[i], array[j] = array[j], array[i]\n",
    "    \n",
    "def bubbleSort(array):\n",
    "    isSorted = False # assuming the array is not sorted starting out\n",
    "    while not isSorted:\n",
    "        isSorted = True\n",
    "        for num in range(len(array)-1):\n",
    "            if array[num] > array[num + 1]: #while array at index 1 is greater than the next array\n",
    "                swap(num, num + 1, array) # calling swap function now\n",
    "                isSorted = False\n",
    "    return array\n",
    "\n",
    "some_list = [16,18,28,4,6,0,13]\n",
    "\n",
    "print(bubbleSort(some_list))"
   ]
  },
  {
   "cell_type": "markdown",
   "metadata": {},
   "source": [
    "##### Insertion Sort\n",
    "\n",
    "Worst Case: O(n^2) time - O(1)space"
   ]
  },
  {
   "cell_type": "code",
   "execution_count": 47,
   "metadata": {},
   "outputs": [
    {
     "name": "stdout",
     "output_type": "stream",
     "text": [
      "[1, 22, 34, 44, 55, 66, 88, 100]\n"
     ]
    }
   ],
   "source": [
    "# Sweap Helper\n",
    "def swap(i, j, array):\n",
    "    array[i], array[j] = array[j], array[i]\n",
    "    \n",
    "def insertionSort(array):\n",
    "    for i in range(1, len(array)):\n",
    "        j = i\n",
    "        while j > 0 and array[j] < array[j-1]: # array of index 1 since we are starting at index 1 assuming index 0 is not sorted\n",
    "            # while j is greater than 0 and index 1 is less than index 0, swap \n",
    "            swap(j, j - 1, array) \n",
    "            j -= 1 # j now becomes 0 which makes the j break out of the while loop\n",
    "    return array\n",
    "\n",
    "print(insertionSort([22,55,88,44,1,100,34,66]))"
   ]
  },
  {
   "cell_type": "markdown",
   "metadata": {},
   "source": [
    "## Merge Sort"
   ]
  },
  {
   "cell_type": "markdown",
   "metadata": {},
   "source": [
    "#### How it Works"
   ]
  },
  {
   "cell_type": "code",
   "execution_count": 54,
   "metadata": {},
   "outputs": [
    {
     "name": "stdout",
     "output_type": "stream",
     "text": [
      "[0, 1, 2, 100, 113]\n",
      "Splitting... [15, 19, 9, 9, 4]\n",
      "Splitting... [15, 19]\n",
      "Splitting... [15]\n",
      "Merging:  [15]\n",
      "Splitting... [19]\n",
      "Merging:  [19]\n",
      "Merging:  [15, 19]\n",
      "Splitting... [9, 9, 4]\n",
      "Splitting... [9]\n",
      "Merging:  [9]\n",
      "Splitting... [9, 4]\n",
      "Splitting... [9]\n",
      "Merging:  [9]\n",
      "Splitting... [4]\n",
      "Merging:  [4]\n",
      "Merging:  [4, 9]\n",
      "Merging:  [4, 9, 9]\n",
      "Merging:  [4, 9, 9, 15, 19]\n"
     ]
    },
    {
     "data": {
      "text/plain": [
       "[4, 9, 9, 15, 19]"
      ]
     },
     "execution_count": 54,
     "metadata": {},
     "output_type": "execute_result"
    }
   ],
   "source": [
    "new = [113, 100, 1, 0, 2]\n",
    "new.sort()\n",
    "print(new)\n",
    "# Using recursion\n",
    "\n",
    "# Step 1: Split everything into its own group\n",
    "# Step 2: From left to right - merge the 2 groups together in proper order\n",
    "# Step 3: Place each item in correct sorted order as merge happens\n",
    "# Step 4: Repeat steps 1-3 until we are done\n",
    "\n",
    "from random import randint\n",
    "# used to generate a list of random integers\n",
    "nums=[randint(0,20) for i in range(5)]\n",
    "\n",
    "# Or it could be written as: \n",
    "# nums = []\n",
    "# for i in range(5):\n",
    "#     nums.append(randint(0,20))\n",
    "    \n",
    "# Merge Sort Implementation\n",
    "def mergeSort(alist):\n",
    "    print(\"Splitting...\", alist) # Just printing to showcase what is happening\n",
    "    # Step 1: Divide this array into equal parts as many times as possible\n",
    "    if len(alist) > 1:\n",
    "        mid = len(alist) // 2\n",
    "        lefthalf = alist[:mid] # everything from the beginning to the midpoint\n",
    "        righthalf = alist[mid:] # everything from the midpoint to the end\n",
    "        \n",
    "        # recursively call this mergeSort on splits until they all have a len == 1\n",
    "        mergeSort(lefthalf)\n",
    "        mergeSort(righthalf)\n",
    "        \n",
    "        # index pointers for our list\n",
    "        i = 0 # pointer for left half\n",
    "        j = 0 # pointer for right half\n",
    "        k = 0 # pointer for main array or original list\n",
    "        \n",
    "        \n",
    "        # Step 2: compare left half to right half:\n",
    "        while i < len(lefthalf) and j < len(righthalf):\n",
    "            if lefthalf[i] < righthalf[j]:\n",
    "                alist[k] = lefthalf[i]\n",
    "                i += 1\n",
    "            else:\n",
    "                alist[k] = righthalf[j]\n",
    "                j += 1\n",
    "            k += 1\n",
    "            \n",
    "        # Step 3: Merging back together\n",
    "        while i < len(lefthalf):\n",
    "            alist[k] = lefthalf[i]\n",
    "            i += 1\n",
    "            k += 1\n",
    "        while j < len(righthalf):\n",
    "            alist[k] = righthalf[j]\n",
    "            j += 1\n",
    "            k += 1\n",
    "        \n",
    "    print(\"Merging: \", alist)\n",
    "    return alist\n",
    "\n",
    "mergeSort(nums)"
   ]
  },
  {
   "cell_type": "markdown",
   "metadata": {},
   "source": [
    "# Binary Search\n",
    "\n",
    "The Binary Search algorithm works by finding the number in the middle of a given array and comparing it to the target. Given that the array is sorted\n",
    "\n",
    "* The worst case run time for this algorithm is `O(log(n))`"
   ]
  },
  {
   "cell_type": "code",
   "execution_count": 55,
   "metadata": {},
   "outputs": [
    {
     "data": {
      "text/plain": [
       "'The index is 1'"
      ]
     },
     "execution_count": 55,
     "metadata": {},
     "output_type": "execute_result"
    }
   ],
   "source": [
    "# left pointer = less than side\n",
    "# right point = greater than side\n",
    "# LIST MUST BE SORTED\n",
    "\n",
    "def binSearchHelper(array, target, left, right):\n",
    "    while left <= right:\n",
    "        middle = (left + right) // 2\n",
    "        potential_match = array[middle]\n",
    "        if target == potential_match:\n",
    "            return f'The index is {middle}'\n",
    "        elif target < potential_match:\n",
    "            right = middle - 1\n",
    "        else: \n",
    "            left = middle + 1\n",
    "    return f'There is no value of {target} stored here...'\n",
    "\n",
    "def binarySearch(array, target):\n",
    "    return binSearchHelper(array, target, 0, len(array)-1)\n",
    "\n",
    "binarySearch([22, 44, 55, 66, 88, 100], 44)\n"
   ]
  },
  {
   "cell_type": "markdown",
   "metadata": {},
   "source": [
    "# Exercises"
   ]
  },
  {
   "cell_type": "markdown",
   "metadata": {},
   "source": [
    "### Exercise #1 <br>\n",
    "<p>Reverse the list below in-place using an in-place algorithm.<br>For extra credit: Reverse the strings at the same time.</p>"
   ]
  },
  {
   "cell_type": "code",
   "execution_count": 94,
   "metadata": {},
   "outputs": [
    {
     "data": {
      "text/plain": [
       "['.', 'sentence', 'a', 'is', 'this']"
      ]
     },
     "execution_count": 94,
     "metadata": {},
     "output_type": "execute_result"
    }
   ],
   "source": [
    "words = ['this' , 'is', 'a', 'sentence', '.']\n",
    "'output = [\".\" , \"sentence\", \"a\", \"is\", \"this\"]'\n",
    "\n",
    "# reverse in place\n",
    "# reverse string as well while reversing in place so the strings should be reversed (sentence --> ecnetnes)\n",
    "\n",
    "def wordSwap(a_list, a,b,x,y,z):\n",
    "    a_list[a], a_list[b], a_list[x], a_list[y], a_list[z] = a_list[z], a_list[y], a_list[x], a_list[b], a_list[a]\n",
    "    return a_list\n",
    "\n",
    "wordSwap(words, 4, 3, 2, 1, 0)\n",
    "\n",
    "# words[i] == \"this\""
   ]
  },
  {
   "cell_type": "markdown",
   "metadata": {},
   "source": [
    "### Exercise #2 <br>\n",
    "<p>Create a function that counts how many distinct words are in the string below, then outputs a dictionary with the words as the key and the value as the amount of times that word appears in the string.<br>Should output:<br>{'a': 5,<br>\n",
    " 'abstract': 1,<br>\n",
    " 'an': 3,<br>\n",
    " 'array': 2, ... etc...</p>"
   ]
  },
  {
   "cell_type": "code",
   "execution_count": 215,
   "metadata": {},
   "outputs": [
    {
     "name": "stdout",
     "output_type": "stream",
     "text": [
      "{'A': 1, 'In': 1, 'a': 4, 'abstract': 1, 'an': 3, 'array': 2, 'associative': 1, 'be': 1, 'buckets': 1, 'can': 2, 'compute': 1, 'computing': 1, 'data': 2, 'desired': 1, 'found': 1, 'from': 1, 'function': 1, 'hash': 4, 'implements': 1, 'index': 1, 'into': 1, 'is': 1, 'keys': 1, 'map': 2, 'of': 1, 'or': 1, 'slots': 1, 'structure': 2, 'table': 2, 'that': 1, 'the': 1, 'to': 2, 'type': 1, 'uses': 1, 'value': 1, 'values': 1, 'which': 2}\n"
     ]
    }
   ],
   "source": [
    "a_text = \"In computing, a hash table hash map is a data structure which implements an associative array abstract data type, a structure that can map keys to values. A hash table uses a hash function to compute an index into an array of buckets or slots from which the desired value can be found\"\n",
    "\n",
    "# probably loop over the string --> similar to parking garage, add key value \n",
    "# def tracking(array):\n",
    "\n",
    "def tracking(string):\n",
    "    empty_dic = {}\n",
    "    string = string.replace(\",\", \"\") # remove commas\n",
    "    string = string.replace(\".\", \"\") # remove period\n",
    "    splitted_string = sorted(string.split())\n",
    "#     return y\n",
    "    for word in splitted_string: # iterating each word\n",
    "        if word in empty_dic.keys(): # checking if word exists in the empty_dic or not --> .keys() check only the keys\n",
    "            empty_dic[word] += 1 # increment count of word exists in the dictionary and [word] is already in dic\n",
    "        else:\n",
    "            empty_dic[word] = 1\n",
    "\n",
    "    return (empty_dic)\n",
    "\n",
    "# Could lower the caps to make it easier but its also easier to see it work without lowering\n",
    "            \n",
    "print(tracking(a_text))\n",
    "\n",
    "# create a function, empty dictionary, replace and remove the commas --> for loop where you do the sorting"
   ]
  },
  {
   "cell_type": "markdown",
   "metadata": {},
   "source": [
    "## Exercise #3\n",
    "\n",
    "Write a program to implement a Linear Search Algorithm. Also in a comment, write the Time Complexity of the following algorithm.\n",
    "\n",
    "#### Hint: Linear Searching will require searching a list for a given number. "
   ]
  },
  {
   "cell_type": "code",
   "execution_count": 117,
   "metadata": {},
   "outputs": [
    {
     "data": {
      "text/plain": [
       "'Found value: 32'"
      ]
     },
     "execution_count": 117,
     "metadata": {},
     "output_type": "execute_result"
    }
   ],
   "source": [
    "test_1 = [1,15,25,32,79,61,3]\n",
    "\n",
    "# We want to iterate through the list and find the specific number \n",
    "\n",
    "def compare(array, target):\n",
    "    for i in range(len(array)):\n",
    "        if array[i] == target:\n",
    "            return f'Search found: {target}'\n",
    "    return \"Value does not exist\"\n",
    "\n",
    "compare(test_1, 61)    \n",
    "\n",
    "# Time complexity: O(n)\n",
    "\n",
    "# For a while loop way\n",
    "# def while_func(array, target):\n",
    "#     i = 0\n",
    "#     while i < len(array):\n",
    "#         if array[i] == target:\n",
    "#             return f'Found value: {target}'\n",
    "#         i += 1\n",
    "#     return \"Not valid\"\n",
    "\n",
    "# while_func(test_1, 32)\n",
    "\n",
    "# Time complexity: O(n)"
   ]
  },
  {
   "cell_type": "code",
   "execution_count": null,
   "metadata": {},
   "outputs": [],
   "source": []
  }
 ],
 "metadata": {
  "kernelspec": {
   "display_name": "Python 3",
   "language": "python",
   "name": "python3"
  },
  "language_info": {
   "codemirror_mode": {
    "name": "ipython",
    "version": 3
   },
   "file_extension": ".py",
   "mimetype": "text/x-python",
   "name": "python",
   "nbconvert_exporter": "python",
   "pygments_lexer": "ipython3",
   "version": "3.9.5"
  }
 },
 "nbformat": 4,
 "nbformat_minor": 2
}
